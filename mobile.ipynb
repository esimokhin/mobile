{
 "cells": [
  {
   "cell_type": "markdown",
   "metadata": {},
   "source": [
    "# Рекомендация тарифов"
   ]
  },
  {
   "cell_type": "markdown",
   "metadata": {},
   "source": [
    "В вашем распоряжении данные о поведении клиентов, которые уже перешли на эти тарифы (из проекта курса «Статистический анализ данных»). Нужно построить модель для задачи классификации, которая выберет подходящий тариф. Предобработка данных не понадобится — вы её уже сделали.\n",
    "\n",
    "Постройте модель с максимально большим значением *accuracy*. Чтобы сдать проект успешно, нужно довести долю правильных ответов по крайней мере до 0.75. Проверьте *accuracy* на тестовой выборке самостоятельно."
   ]
  },
  {
   "cell_type": "markdown",
   "metadata": {},
   "source": [
    "**Описание данных**<br />\n",
    "Каждый объект в наборе данных — это информация о поведении одного пользователя за месяц. <br />\n",
    "***Значение полей:***<br />\n",
    "сalls — количество звонков,<br />\n",
    "minutes — суммарная длительность звонков в минутах,<br />\n",
    "messages — количество sms-сообщений,<br />\n",
    "mb_used — израсходованный интернет-трафик в Мб,<br />\n",
    "is_ultra — каким тарифом пользовался в течение месяца («Ультра» — 1, «Смарт» — 0).<br />"
   ]
  },
  {
   "cell_type": "markdown",
   "metadata": {},
   "source": [
    "## Откройте и изучите файл"
   ]
  },
  {
   "cell_type": "markdown",
   "metadata": {},
   "source": [
    "### Подготовительные работы"
   ]
  },
  {
   "cell_type": "code",
   "execution_count": 1,
   "metadata": {},
   "outputs": [],
   "source": [
    "import pandas as pd\n",
    "import seaborn as sns\n",
    "import numpy as np\n",
    "import matplotlib.pyplot as plt\n",
    "%matplotlib notebook\n",
    "%matplotlib inline\n",
    "import warnings\n",
    "from sklearn.model_selection import train_test_split\n",
    "from sklearn.tree import DecisionTreeClassifier\n",
    "from sklearn.ensemble import RandomForestClassifier\n",
    "from sklearn.linear_model import LogisticRegression \n",
    "from sklearn.metrics import accuracy_score\n",
    "from sklearn.dummy import DummyClassifier"
   ]
  },
  {
   "cell_type": "markdown",
   "metadata": {},
   "source": [
    "Отключение вывода в окно с прокруткой:"
   ]
  },
  {
   "cell_type": "code",
   "execution_count": 2,
   "metadata": {},
   "outputs": [
    {
     "data": {
      "application/javascript": [
       "IPython.OutputArea.auto_scroll_threshold = 9999;\n"
      ],
      "text/plain": [
       "<IPython.core.display.Javascript object>"
      ]
     },
     "metadata": {},
     "output_type": "display_data"
    }
   ],
   "source": [
    "%%javascript\n",
    "IPython.OutputArea.auto_scroll_threshold = 9999;"
   ]
  },
  {
   "cell_type": "code",
   "execution_count": 3,
   "metadata": {},
   "outputs": [],
   "source": [
    "# Отключение settingwithcopywarning\n",
    "pd.options.mode.chained_assignment = None\n",
    "#Формат float\n",
    "pd.options.display.float_format = '{:,.2f}'.format\n",
    "# Сброс ограничений на число столбцов\n",
    "#pd.set_option('display.max_columns', None)\n",
    "pd.options.display.max_columns = None\n",
    "warnings.filterwarnings('ignore')"
   ]
  },
  {
   "cell_type": "markdown",
   "metadata": {},
   "source": [
    "### Загрузка данных"
   ]
  },
  {
   "cell_type": "code",
   "execution_count": 4,
   "metadata": {
    "scrolled": true
   },
   "outputs": [],
   "source": [
    "import pandas as pd\n",
    "data = pd.read_csv('/datasets/users_behavior.csv')"
   ]
  },
  {
   "cell_type": "markdown",
   "metadata": {},
   "source": [
    "### Информация о столбцах:"
   ]
  },
  {
   "cell_type": "code",
   "execution_count": 5,
   "metadata": {},
   "outputs": [],
   "source": [
    "data_name = 'Данные об абонентах'\n",
    "data_fields = {\n",
    "'calls':'количество звонков',\n",
    "'minutes':'суммарная длительность звонков в минутах',\n",
    "'messages':'количество sms-сообщений',\n",
    "'mb_used':'израсходованный интернет-трафик в Мб',\n",
    "'is_ultra':'каким тарифом пользовался в течение месяца («Ультра» — 1, «Смарт» — 0)',\n",
    "}    \n"
   ]
  },
  {
   "cell_type": "markdown",
   "metadata": {},
   "source": [
    "### Вспомогательные функции:"
   ]
  },
  {
   "cell_type": "markdown",
   "metadata": {},
   "source": [
    "#### Функция, создающая таблицу по данным describe() для столбцов датафрейма"
   ]
  },
  {
   "cell_type": "code",
   "execution_count": 6,
   "metadata": {},
   "outputs": [],
   "source": [
    "def describer(df,clmn='column'):\n",
    "    df_describe = pd.DataFrame(columns=[clmn,'count','mean','std','min','25%','50%','75%','max'])\n",
    "    for col in df.columns:\n",
    "        param = df[col]\n",
    "        typer = type(list(param)[0]) #[0])\n",
    "        if (not 'str' in str(typer)) and (not 'bool' in str(typer)) and (not 'date' in str(typer)):\n",
    "            desc = df[col].describe().to_dict()\n",
    "            desc[clmn] = col\n",
    "            df_describe = df_describe.append(desc, ignore_index=True)\n",
    "    return df_describe"
   ]
  },
  {
   "cell_type": "markdown",
   "metadata": {},
   "source": [
    "#### Функция получения информации о столбце"
   ]
  },
  {
   "cell_type": "code",
   "execution_count": 7,
   "metadata": {},
   "outputs": [],
   "source": [
    "def col_reaper(ddf,param_name,plot_hist = True):\n",
    "    global data_fields\n",
    "    data_len = len(ddf)\n",
    "    param = ddf[param_name]\n",
    "    #Определение имени столбца\n",
    "#    param_index = param.reset_index()\n",
    "#    param_name = param_index.columns[1]\n",
    "    if data_fields.get(param_name) is not None:\n",
    "        field = data_fields.get(param_name)\n",
    "    else:\n",
    "        field = ''\n",
    "        \n",
    "    print('\\033[1;3m' +  param_name + ' - ' + field + '\\033[0m')\n",
    "\n",
    "    #Описание данных\n",
    "    print('')\n",
    "    print('\\033[4m'+'Описание данных:'+ '\\033[0m')\n",
    "    print(param.describe(datetime_is_numeric=True))\n",
    "    typer = type(param[0])\n",
    "    print('\\033[4m' +  'Количество записей:' + '\\033[0m', sum(param.notna()), 'из', data_len)\n",
    "    if sum(param.isna()) >0:\n",
    "       print('\\033[4m' +  'Пропущено:' + '\\033[0m', sum(param.isna()))\n",
    "       print('')\n",
    "\n",
    "    #Построение гистограммы\n",
    "    print('\\033[4m'+'\\nТип:\\n' + '\\033[0m', typer)\n",
    "    if plot_hist and not 'str' in str(typer):\n",
    "#        print('\\nГистограмма значений:')\n",
    "        param.hist();\n",
    "    if plot_hist and not 'str' in str(typer):\n",
    "            print('\\033[4m'+'\\nГистограмма значений:'+ '\\033[0m')\n",
    "            param.plot(kind='hist',figsize=(16,5), grid = True)\n",
    "            plt.title(field)\n",
    "            #plt.xlabel('Населенные пункты') \n",
    "            plt.ylabel('Количество записей')\n",
    "            plt.xticks(rotation=0)\n",
    "            plt.show()\n",
    "            \n",
    "    else:\n",
    "        if len(param.unique())<=40:\n",
    "            #param_index = param.reset_index()\n",
    "            print('\\033[4m'+'\\nРаспределение уникальных значений (первые 10 значений в порядке убывания):'+ '\\033[0m')\n",
    "            param_group=ddf.groupby(param_name).agg(cnt=(param_name,'count')).reset_index()\n",
    "            display(param_group.sort_values(by='cnt',ascending=False).reset_index(drop=True).head(10))\n",
    "            \n",
    "            print('\\033[4m'+'\\nГистограмма значений:'+ '\\033[0m')\n",
    "            param_group.plot(x=param_name, y='cnt', kind='bar',figsize=(16,5))\n",
    "            plt.title(field)\n",
    "            plt.xlabel('') \n",
    "            plt.ylabel('Количество записей')\n",
    "            if len(param.unique())<=20:\n",
    "                plt.xticks(rotation=0)\n",
    "            else:\n",
    "                plt.xticks(rotation=90)\n",
    "            plt.show()\n",
    "    print('')"
   ]
  },
  {
   "cell_type": "markdown",
   "metadata": {},
   "source": [
    "#### Функция получения информации о датафрейме"
   ]
  },
  {
   "cell_type": "code",
   "execution_count": 8,
   "metadata": {},
   "outputs": [],
   "source": [
    "def df_reaper(df, df_name ='', fields = {}):\n",
    "    #global df_name\n",
    "    #global descript\n",
    "    print('\\033[1;4m' +  df_name + '\\033[0m \\n')   \n",
    "    print('\\033[1m' +  'Количество записей:' + '\\033[0m')   \n",
    "    df_len = len(df)\n",
    "    display(df_len)\n",
    "    print('')\n",
    "    \n",
    "    print('\\033[1m' +  'Первые 5 строк данных:' + '\\033[0m')   \n",
    "    display(df.head())\n",
    "    print('')\n",
    "    \n",
    "    print('\\033[1m' +  'Информация о датафрейме:' + '\\033[0m')\n",
    "    print('')\n",
    "    display(df.info())\n",
    "    \n",
    "    print('\\033[1m' +  'Описание данных в столбцах с числовыми значениями:' + '\\033[0m')\n",
    "    display(describer(df))\n",
    "    \n",
    "    print('\\033[1m' +  'Диаграмма рассеивания:' + '\\033[0m')\n",
    "    pd.plotting.scatter_matrix(data, figsize=(12, 12)); \n",
    "    plt.show()\n",
    "    \n",
    "    print('\\033[1m' +  'Корелляция данных:' + '\\033[0m')\n",
    "    display(df.corr())\n",
    "    \n",
    "    print('\\033[1m' +  'Столбцы:' + '\\033[0m \\n')\n",
    "    cols = df.columns\n",
    "    for col in cols:\n",
    "        col_reaper(df,col)"
   ]
  },
  {
   "cell_type": "markdown",
   "metadata": {},
   "source": [
    "### Анализ данных:"
   ]
  },
  {
   "cell_type": "code",
   "execution_count": 9,
   "metadata": {},
   "outputs": [
    {
     "name": "stdout",
     "output_type": "stream",
     "text": [
      "\u001b[1;4mДанные об абонентах\u001b[0m \n",
      "\n",
      "\u001b[1mКоличество записей:\u001b[0m\n"
     ]
    },
    {
     "data": {
      "text/plain": [
       "3214"
      ]
     },
     "metadata": {},
     "output_type": "display_data"
    },
    {
     "name": "stdout",
     "output_type": "stream",
     "text": [
      "\n",
      "\u001b[1mПервые 5 строк данных:\u001b[0m\n"
     ]
    },
    {
     "data": {
      "text/html": [
       "<div>\n",
       "<style scoped>\n",
       "    .dataframe tbody tr th:only-of-type {\n",
       "        vertical-align: middle;\n",
       "    }\n",
       "\n",
       "    .dataframe tbody tr th {\n",
       "        vertical-align: top;\n",
       "    }\n",
       "\n",
       "    .dataframe thead th {\n",
       "        text-align: right;\n",
       "    }\n",
       "</style>\n",
       "<table border=\"1\" class=\"dataframe\">\n",
       "  <thead>\n",
       "    <tr style=\"text-align: right;\">\n",
       "      <th></th>\n",
       "      <th>calls</th>\n",
       "      <th>minutes</th>\n",
       "      <th>messages</th>\n",
       "      <th>mb_used</th>\n",
       "      <th>is_ultra</th>\n",
       "    </tr>\n",
       "  </thead>\n",
       "  <tbody>\n",
       "    <tr>\n",
       "      <th>0</th>\n",
       "      <td>40.00</td>\n",
       "      <td>311.90</td>\n",
       "      <td>83.00</td>\n",
       "      <td>19,915.42</td>\n",
       "      <td>0</td>\n",
       "    </tr>\n",
       "    <tr>\n",
       "      <th>1</th>\n",
       "      <td>85.00</td>\n",
       "      <td>516.75</td>\n",
       "      <td>56.00</td>\n",
       "      <td>22,696.96</td>\n",
       "      <td>0</td>\n",
       "    </tr>\n",
       "    <tr>\n",
       "      <th>2</th>\n",
       "      <td>77.00</td>\n",
       "      <td>467.66</td>\n",
       "      <td>86.00</td>\n",
       "      <td>21,060.45</td>\n",
       "      <td>0</td>\n",
       "    </tr>\n",
       "    <tr>\n",
       "      <th>3</th>\n",
       "      <td>106.00</td>\n",
       "      <td>745.53</td>\n",
       "      <td>81.00</td>\n",
       "      <td>8,437.39</td>\n",
       "      <td>1</td>\n",
       "    </tr>\n",
       "    <tr>\n",
       "      <th>4</th>\n",
       "      <td>66.00</td>\n",
       "      <td>418.74</td>\n",
       "      <td>1.00</td>\n",
       "      <td>14,502.75</td>\n",
       "      <td>0</td>\n",
       "    </tr>\n",
       "  </tbody>\n",
       "</table>\n",
       "</div>"
      ],
      "text/plain": [
       "   calls  minutes  messages   mb_used  is_ultra\n",
       "0  40.00   311.90     83.00 19,915.42         0\n",
       "1  85.00   516.75     56.00 22,696.96         0\n",
       "2  77.00   467.66     86.00 21,060.45         0\n",
       "3 106.00   745.53     81.00  8,437.39         1\n",
       "4  66.00   418.74      1.00 14,502.75         0"
      ]
     },
     "metadata": {},
     "output_type": "display_data"
    },
    {
     "name": "stdout",
     "output_type": "stream",
     "text": [
      "\n",
      "\u001b[1mИнформация о датафрейме:\u001b[0m\n",
      "\n",
      "<class 'pandas.core.frame.DataFrame'>\n",
      "RangeIndex: 3214 entries, 0 to 3213\n",
      "Data columns (total 5 columns):\n",
      " #   Column    Non-Null Count  Dtype  \n",
      "---  ------    --------------  -----  \n",
      " 0   calls     3214 non-null   float64\n",
      " 1   minutes   3214 non-null   float64\n",
      " 2   messages  3214 non-null   float64\n",
      " 3   mb_used   3214 non-null   float64\n",
      " 4   is_ultra  3214 non-null   int64  \n",
      "dtypes: float64(4), int64(1)\n",
      "memory usage: 125.7 KB\n"
     ]
    },
    {
     "data": {
      "text/plain": [
       "None"
      ]
     },
     "metadata": {},
     "output_type": "display_data"
    },
    {
     "name": "stdout",
     "output_type": "stream",
     "text": [
      "\u001b[1mОписание данных в столбцах с числовыми значениями:\u001b[0m\n"
     ]
    },
    {
     "data": {
      "text/html": [
       "<div>\n",
       "<style scoped>\n",
       "    .dataframe tbody tr th:only-of-type {\n",
       "        vertical-align: middle;\n",
       "    }\n",
       "\n",
       "    .dataframe tbody tr th {\n",
       "        vertical-align: top;\n",
       "    }\n",
       "\n",
       "    .dataframe thead th {\n",
       "        text-align: right;\n",
       "    }\n",
       "</style>\n",
       "<table border=\"1\" class=\"dataframe\">\n",
       "  <thead>\n",
       "    <tr style=\"text-align: right;\">\n",
       "      <th></th>\n",
       "      <th>column</th>\n",
       "      <th>count</th>\n",
       "      <th>mean</th>\n",
       "      <th>std</th>\n",
       "      <th>min</th>\n",
       "      <th>25%</th>\n",
       "      <th>50%</th>\n",
       "      <th>75%</th>\n",
       "      <th>max</th>\n",
       "    </tr>\n",
       "  </thead>\n",
       "  <tbody>\n",
       "    <tr>\n",
       "      <th>0</th>\n",
       "      <td>calls</td>\n",
       "      <td>3,214.00</td>\n",
       "      <td>63.04</td>\n",
       "      <td>33.24</td>\n",
       "      <td>0.00</td>\n",
       "      <td>40.00</td>\n",
       "      <td>62.00</td>\n",
       "      <td>82.00</td>\n",
       "      <td>244.00</td>\n",
       "    </tr>\n",
       "    <tr>\n",
       "      <th>1</th>\n",
       "      <td>minutes</td>\n",
       "      <td>3,214.00</td>\n",
       "      <td>438.21</td>\n",
       "      <td>234.57</td>\n",
       "      <td>0.00</td>\n",
       "      <td>274.58</td>\n",
       "      <td>430.60</td>\n",
       "      <td>571.93</td>\n",
       "      <td>1,632.06</td>\n",
       "    </tr>\n",
       "    <tr>\n",
       "      <th>2</th>\n",
       "      <td>messages</td>\n",
       "      <td>3,214.00</td>\n",
       "      <td>38.28</td>\n",
       "      <td>36.15</td>\n",
       "      <td>0.00</td>\n",
       "      <td>9.00</td>\n",
       "      <td>30.00</td>\n",
       "      <td>57.00</td>\n",
       "      <td>224.00</td>\n",
       "    </tr>\n",
       "    <tr>\n",
       "      <th>3</th>\n",
       "      <td>mb_used</td>\n",
       "      <td>3,214.00</td>\n",
       "      <td>17,207.67</td>\n",
       "      <td>7,570.97</td>\n",
       "      <td>0.00</td>\n",
       "      <td>12,491.90</td>\n",
       "      <td>16,943.24</td>\n",
       "      <td>21,424.70</td>\n",
       "      <td>49,745.73</td>\n",
       "    </tr>\n",
       "    <tr>\n",
       "      <th>4</th>\n",
       "      <td>is_ultra</td>\n",
       "      <td>3,214.00</td>\n",
       "      <td>0.31</td>\n",
       "      <td>0.46</td>\n",
       "      <td>0.00</td>\n",
       "      <td>0.00</td>\n",
       "      <td>0.00</td>\n",
       "      <td>1.00</td>\n",
       "      <td>1.00</td>\n",
       "    </tr>\n",
       "  </tbody>\n",
       "</table>\n",
       "</div>"
      ],
      "text/plain": [
       "     column    count      mean      std  min       25%       50%       75%  \\\n",
       "0     calls 3,214.00     63.04    33.24 0.00     40.00     62.00     82.00   \n",
       "1   minutes 3,214.00    438.21   234.57 0.00    274.58    430.60    571.93   \n",
       "2  messages 3,214.00     38.28    36.15 0.00      9.00     30.00     57.00   \n",
       "3   mb_used 3,214.00 17,207.67 7,570.97 0.00 12,491.90 16,943.24 21,424.70   \n",
       "4  is_ultra 3,214.00      0.31     0.46 0.00      0.00      0.00      1.00   \n",
       "\n",
       "        max  \n",
       "0    244.00  \n",
       "1  1,632.06  \n",
       "2    224.00  \n",
       "3 49,745.73  \n",
       "4      1.00  "
      ]
     },
     "metadata": {},
     "output_type": "display_data"
    },
    {
     "name": "stdout",
     "output_type": "stream",
     "text": [
      "\u001b[1mДиаграмма рассеивания:\u001b[0m\n"
     ]
    },
    {
     "data": {
      "image/png": "[encoded data removed]",
      "text/plain": [
       "<Figure size 864x864 with 25 Axes>"
      ]
     },
     "metadata": {
      "needs_background": "light"
     },
     "output_type": "display_data"
    },
    {
     "name": "stdout",
     "output_type": "stream",
     "text": [
      "\u001b[1mКорелляция данных:\u001b[0m\n"
     ]
    },
    {
     "data": {
      "text/html": [
       "<div>\n",
       "<style scoped>\n",
       "    .dataframe tbody tr th:only-of-type {\n",
       "        vertical-align: middle;\n",
       "    }\n",
       "\n",
       "    .dataframe tbody tr th {\n",
       "        vertical-align: top;\n",
       "    }\n",
       "\n",
       "    .dataframe thead th {\n",
       "        text-align: right;\n",
       "    }\n",
       "</style>\n",
       "<table border=\"1\" class=\"dataframe\">\n",
       "  <thead>\n",
       "    <tr style=\"text-align: right;\">\n",
       "      <th></th>\n",
       "      <th>calls</th>\n",
       "      <th>minutes</th>\n",
       "      <th>messages</th>\n",
       "      <th>mb_used</th>\n",
       "      <th>is_ultra</th>\n",
       "    </tr>\n",
       "  </thead>\n",
       "  <tbody>\n",
       "    <tr>\n",
       "      <th>calls</th>\n",
       "      <td>1.00</td>\n",
       "      <td>0.98</td>\n",
       "      <td>0.18</td>\n",
       "      <td>0.29</td>\n",
       "      <td>0.21</td>\n",
       "    </tr>\n",
       "    <tr>\n",
       "      <th>minutes</th>\n",
       "      <td>0.98</td>\n",
       "      <td>1.00</td>\n",
       "      <td>0.17</td>\n",
       "      <td>0.28</td>\n",
       "      <td>0.21</td>\n",
       "    </tr>\n",
       "    <tr>\n",
       "      <th>messages</th>\n",
       "      <td>0.18</td>\n",
       "      <td>0.17</td>\n",
       "      <td>1.00</td>\n",
       "      <td>0.20</td>\n",
       "      <td>0.20</td>\n",
       "    </tr>\n",
       "    <tr>\n",
       "      <th>mb_used</th>\n",
       "      <td>0.29</td>\n",
       "      <td>0.28</td>\n",
       "      <td>0.20</td>\n",
       "      <td>1.00</td>\n",
       "      <td>0.20</td>\n",
       "    </tr>\n",
       "    <tr>\n",
       "      <th>is_ultra</th>\n",
       "      <td>0.21</td>\n",
       "      <td>0.21</td>\n",
       "      <td>0.20</td>\n",
       "      <td>0.20</td>\n",
       "      <td>1.00</td>\n",
       "    </tr>\n",
       "  </tbody>\n",
       "</table>\n",
       "</div>"
      ],
      "text/plain": [
       "          calls  minutes  messages  mb_used  is_ultra\n",
       "calls      1.00     0.98      0.18     0.29      0.21\n",
       "minutes    0.98     1.00      0.17     0.28      0.21\n",
       "messages   0.18     0.17      1.00     0.20      0.20\n",
       "mb_used    0.29     0.28      0.20     1.00      0.20\n",
       "is_ultra   0.21     0.21      0.20     0.20      1.00"
      ]
     },
     "metadata": {},
     "output_type": "display_data"
    },
    {
     "name": "stdout",
     "output_type": "stream",
     "text": [
      "\u001b[1mСтолбцы:\u001b[0m \n",
      "\n",
      "\u001b[1;3mcalls - количество звонков\u001b[0m\n",
      "\n",
      "\u001b[4mОписание данных:\u001b[0m\n",
      "count   3,214.00\n",
      "mean       63.04\n",
      "std        33.24\n",
      "min         0.00\n",
      "25%        40.00\n",
      "50%        62.00\n",
      "75%        82.00\n",
      "max       244.00\n",
      "Name: calls, dtype: float64\n",
      "\u001b[4mКоличество записей:\u001b[0m 3214 из 3214\n",
      "\u001b[4m\n",
      "Тип:\n",
      "\u001b[0m <class 'numpy.float64'>\n",
      "\u001b[4m\n",
      "Гистограмма значений:\u001b[0m\n"
     ]
    },
    {
     "data": {
      "image/png": "[encoded data removed]",
      "text/plain": [
       "<Figure size 1152x360 with 1 Axes>"
      ]
     },
     "metadata": {
      "needs_background": "light"
     },
     "output_type": "display_data"
    },
    {
     "name": "stdout",
     "output_type": "stream",
     "text": [
      "\n",
      "\u001b[1;3mminutes - суммарная длительность звонков в минутах\u001b[0m\n",
      "\n",
      "\u001b[4mОписание данных:\u001b[0m\n",
      "count   3,214.00\n",
      "mean      438.21\n",
      "std       234.57\n",
      "min         0.00\n",
      "25%       274.58\n",
      "50%       430.60\n",
      "75%       571.93\n",
      "max     1,632.06\n",
      "Name: minutes, dtype: float64\n",
      "\u001b[4mКоличество записей:\u001b[0m 3214 из 3214\n",
      "\u001b[4m\n",
      "Тип:\n",
      "\u001b[0m <class 'numpy.float64'>\n",
      "\u001b[4m\n",
      "Гистограмма значений:\u001b[0m\n"
     ]
    },
    {
     "data": {
      "image/png": "[encoded data removed]",
      "text/plain": [
       "<Figure size 1152x360 with 1 Axes>"
      ]
     },
     "metadata": {
      "needs_background": "light"
     },
     "output_type": "display_data"
    },
    {
     "name": "stdout",
     "output_type": "stream",
     "text": [
      "\n",
      "\u001b[1;3mmessages - количество sms-сообщений\u001b[0m\n",
      "\n",
      "\u001b[4mОписание данных:\u001b[0m\n",
      "count   3,214.00\n",
      "mean       38.28\n",
      "std        36.15\n",
      "min         0.00\n",
      "25%         9.00\n",
      "50%        30.00\n",
      "75%        57.00\n",
      "max       224.00\n",
      "Name: messages, dtype: float64\n",
      "\u001b[4mКоличество записей:\u001b[0m 3214 из 3214\n",
      "\u001b[4m\n",
      "Тип:\n",
      "\u001b[0m <class 'numpy.float64'>\n",
      "\u001b[4m\n",
      "Гистограмма значений:\u001b[0m\n"
     ]
    },
    {
     "data": {
      "image/png": "[encoded data removed]",
      "text/plain": [
       "<Figure size 1152x360 with 1 Axes>"
      ]
     },
     "metadata": {
      "needs_background": "light"
     },
     "output_type": "display_data"
    },
    {
     "name": "stdout",
     "output_type": "stream",
     "text": [
      "\n",
      "\u001b[1;3mmb_used - израсходованный интернет-трафик в Мб\u001b[0m\n",
      "\n",
      "\u001b[4mОписание данных:\u001b[0m\n",
      "count    3,214.00\n",
      "mean    17,207.67\n",
      "std      7,570.97\n",
      "min          0.00\n",
      "25%     12,491.90\n",
      "50%     16,943.24\n",
      "75%     21,424.70\n",
      "max     49,745.73\n",
      "Name: mb_used, dtype: float64\n",
      "\u001b[4mКоличество записей:\u001b[0m 3214 из 3214\n",
      "\u001b[4m\n",
      "Тип:\n",
      "\u001b[0m <class 'numpy.float64'>\n",
      "\u001b[4m\n",
      "Гистограмма значений:\u001b[0m\n"
     ]
    },
    {
     "data": {
      "image/png": "[encoded data removed]",
      "text/plain": [
       "<Figure size 1152x360 with 1 Axes>"
      ]
     },
     "metadata": {
      "needs_background": "light"
     },
     "output_type": "display_data"
    },
    {
     "name": "stdout",
     "output_type": "stream",
     "text": [
      "\n",
      "\u001b[1;3mis_ultra - каким тарифом пользовался в течение месяца («Ультра» — 1, «Смарт» — 0)\u001b[0m\n",
      "\n",
      "\u001b[4mОписание данных:\u001b[0m\n",
      "count   3,214.00\n",
      "mean        0.31\n",
      "std         0.46\n",
      "min         0.00\n",
      "25%         0.00\n",
      "50%         0.00\n",
      "75%         1.00\n",
      "max         1.00\n",
      "Name: is_ultra, dtype: float64\n",
      "\u001b[4mКоличество записей:\u001b[0m 3214 из 3214\n",
      "\u001b[4m\n",
      "Тип:\n",
      "\u001b[0m <class 'numpy.int64'>\n",
      "\u001b[4m\n",
      "Гистограмма значений:\u001b[0m\n"
     ]
    },
    {
     "data": {
      "image/png": "[encoded data removed]",
      "text/plain": [
       "<Figure size 1152x360 with 1 Axes>"
      ]
     },
     "metadata": {
      "needs_background": "light"
     },
     "output_type": "display_data"
    },
    {
     "name": "stdout",
     "output_type": "stream",
     "text": [
      "\n"
     ]
    }
   ],
   "source": [
    "df_reaper(data, data_name, data_fields)"
   ]
  },
  {
   "cell_type": "markdown",
   "metadata": {},
   "source": [
    "### Общий вывод анализа входной информации"
   ]
  },
  {
   "cell_type": "markdown",
   "metadata": {},
   "source": [
    "1. В предоставленных данных находится информация о 3214 абонетах мобильной связи.\n",
    "2. Все данные полны, пропущенные данные отсутствуют.\n",
    "3. В данных отсутствуют аномальные выбросы.\n",
    "4. Присутствует слабая зависимость между выбором тарифа и каждым из параметров в отдельности.\n",
    "5. Более 2/3 абонентов пользуется тарифом \"Смарт\".\n",
    "6. В качестве целевого признака можно использовать значение столбца ***is_ultra***"
   ]
  },
  {
   "cell_type": "markdown",
   "metadata": {},
   "source": [
    "## Разбейте данные на выборки"
   ]
  },
  {
   "cell_type": "markdown",
   "metadata": {},
   "source": [
    "Выделим признаки и целевой признак - столбец ***is_ultra***"
   ]
  },
  {
   "cell_type": "code",
   "execution_count": 10,
   "metadata": {},
   "outputs": [],
   "source": [
    "features = data.drop(['is_ultra'], axis=1)\n",
    "target = data['is_ultra']"
   ]
  },
  {
   "cell_type": "markdown",
   "metadata": {},
   "source": [
    "Разобъем данные на тренировочную, валидационную и тестовую выборку в пропорции 60:20:20"
   ]
  },
  {
   "cell_type": "code",
   "execution_count": 11,
   "metadata": {},
   "outputs": [],
   "source": [
    "features_train, features_valid_test, target_train, target_valid_test = train_test_split(\n",
    "    features, target, test_size=0.4, random_state=12345, stratify = target)\n",
    "features_valid, features_test, target_valid, target_test = train_test_split(\n",
    "    features_valid_test, target_valid_test, test_size=0.5, random_state=12345, stratify = target_valid_test)"
   ]
  },
  {
   "cell_type": "markdown",
   "metadata": {},
   "source": [
    "Проверка:"
   ]
  },
  {
   "cell_type": "code",
   "execution_count": 12,
   "metadata": {},
   "outputs": [
    {
     "data": {
      "text/plain": [
       "0.5998755444928439"
      ]
     },
     "execution_count": 12,
     "metadata": {},
     "output_type": "execute_result"
    }
   ],
   "source": [
    "len(features_train)/len(features)"
   ]
  },
  {
   "cell_type": "code",
   "execution_count": 13,
   "metadata": {},
   "outputs": [
    {
     "data": {
      "text/plain": [
       "0.2000622277535781"
      ]
     },
     "execution_count": 13,
     "metadata": {},
     "output_type": "execute_result"
    }
   ],
   "source": [
    "len(features_valid)/len(features)"
   ]
  },
  {
   "cell_type": "code",
   "execution_count": 14,
   "metadata": {},
   "outputs": [
    {
     "data": {
      "text/plain": [
       "0.2000622277535781"
      ]
     },
     "execution_count": 14,
     "metadata": {},
     "output_type": "execute_result"
    }
   ],
   "source": [
    "len(features_test)/len(features)"
   ]
  },
  {
   "cell_type": "markdown",
   "metadata": {},
   "source": [
    "**Итог:**"
   ]
  },
  {
   "cell_type": "markdown",
   "metadata": {},
   "source": [
    "Данные разбиты на тренировочную, валидационную и тестовую выборку в пропорции 60:20:20"
   ]
  },
  {
   "cell_type": "markdown",
   "metadata": {},
   "source": [
    "## Исследуйте модели"
   ]
  },
  {
   "cell_type": "markdown",
   "metadata": {},
   "source": [
    "### Модель \"Решающее дерево\""
   ]
  },
  {
   "cell_type": "markdown",
   "metadata": {},
   "source": [
    "#### Поиск оптимальных гиперпараметров:"
   ]
  },
  {
   "cell_type": "code",
   "execution_count": 15,
   "metadata": {},
   "outputs": [],
   "source": [
    "best_model = None\n",
    "best_result = 0\n",
    "for depth in range(1, 21):\n",
    "    model = DecisionTreeClassifier(random_state=12345, max_depth=depth)\n",
    "    model.fit(features_train, target_train)\n",
    "    predictions_valid = model.predict(features_valid)\n",
    "    result = accuracy_score(target_valid,predictions_valid)\n",
    "    if result > best_result:\n",
    "        best_model = model\n",
    "        best_result = result\n",
    "        best_depth = depth"
   ]
  },
  {
   "cell_type": "markdown",
   "metadata": {},
   "source": [
    "#### Accuracy наилучшей модели на валидационной выборке:"
   ]
  },
  {
   "cell_type": "code",
   "execution_count": 16,
   "metadata": {},
   "outputs": [
    {
     "data": {
      "text/plain": [
       "0.80248833592535"
      ]
     },
     "execution_count": 16,
     "metadata": {},
     "output_type": "execute_result"
    }
   ],
   "source": [
    " best_result"
   ]
  },
  {
   "cell_type": "markdown",
   "metadata": {},
   "source": [
    "#### Модель \"Решающее дерево\" с наилучшим значением аccuracy: "
   ]
  },
  {
   "cell_type": "code",
   "execution_count": 17,
   "metadata": {},
   "outputs": [
    {
     "data": {
      "text/plain": [
       "DecisionTreeClassifier(max_depth=8, random_state=12345)"
      ]
     },
     "execution_count": 17,
     "metadata": {},
     "output_type": "execute_result"
    }
   ],
   "source": [
    "model_tree = best_model\n",
    "model_tree"
   ]
  },
  {
   "cell_type": "markdown",
   "metadata": {},
   "source": [
    "### Модель \"Случайный лес\""
   ]
  },
  {
   "cell_type": "markdown",
   "metadata": {},
   "source": [
    "#### Поиск оптимальных гиперпараметров:"
   ]
  },
  {
   "cell_type": "code",
   "execution_count": 18,
   "metadata": {},
   "outputs": [],
   "source": [
    "best_model = None\n",
    "best_result = 0\n",
    "best_est = 0\n",
    "best_depth = 0\n",
    "for est in range(1, 51, 1):\n",
    "    for depth in range (1, 21):\n",
    "        model = RandomForestClassifier(random_state=12345, n_estimators=est, max_depth=depth)\n",
    "        model.fit(features_train, target_train)\n",
    "        predictions_valid = model.predict(features_valid)\n",
    "        result = accuracy_score(target_valid,predictions_valid)\n",
    "        if result > best_result:\n",
    "            best_model = model\n",
    "            best_result = result\n",
    "            best_est = est\n",
    "            best_depth = depth"
   ]
  },
  {
   "cell_type": "markdown",
   "metadata": {},
   "source": [
    "#### Accuracy наилучшей модели на валидационной выборке:"
   ]
  },
  {
   "cell_type": "code",
   "execution_count": 19,
   "metadata": {},
   "outputs": [
    {
     "data": {
      "text/plain": [
       "0.8227060653188181"
      ]
     },
     "execution_count": 19,
     "metadata": {},
     "output_type": "execute_result"
    }
   ],
   "source": [
    " best_result"
   ]
  },
  {
   "cell_type": "markdown",
   "metadata": {},
   "source": [
    "#### Модель \"Случайный лес\" с наилучшим значением аccuracy: "
   ]
  },
  {
   "cell_type": "code",
   "execution_count": 20,
   "metadata": {},
   "outputs": [
    {
     "data": {
      "text/plain": [
       "RandomForestClassifier(max_depth=9, n_estimators=39, random_state=12345)"
      ]
     },
     "execution_count": 20,
     "metadata": {},
     "output_type": "execute_result"
    }
   ],
   "source": [
    "model_forest = best_model\n",
    "model_forest"
   ]
  },
  {
   "cell_type": "markdown",
   "metadata": {},
   "source": [
    "### Модель \"Логистическая регрессия\""
   ]
  },
  {
   "cell_type": "markdown",
   "metadata": {},
   "source": [
    "#### Обучение модели:"
   ]
  },
  {
   "cell_type": "code",
   "execution_count": 21,
   "metadata": {},
   "outputs": [
    {
     "data": {
      "text/plain": [
       "LogisticRegression(max_iter=1000, random_state=12345)"
      ]
     },
     "execution_count": 21,
     "metadata": {},
     "output_type": "execute_result"
    }
   ],
   "source": [
    "model_regress = LogisticRegression(random_state=12345, solver='lbfgs', max_iter=1000)\n",
    "model_regress.fit(features_train, target_train)\n",
    "model_regress"
   ]
  },
  {
   "cell_type": "markdown",
   "metadata": {},
   "source": [
    "#### Accuracy наилучшей модели на валидационной выборке:"
   ]
  },
  {
   "cell_type": "code",
   "execution_count": 22,
   "metadata": {},
   "outputs": [
    {
     "data": {
      "text/plain": [
       "0.7387247278382582"
      ]
     },
     "execution_count": 22,
     "metadata": {},
     "output_type": "execute_result"
    }
   ],
   "source": [
    "predictions_valid = model_regress.predict(features_valid)\n",
    "accuracy_score(target_valid,predictions_valid)"
   ]
  },
  {
   "cell_type": "markdown",
   "metadata": {},
   "source": [
    "### Итог исследования моделей:"
   ]
  },
  {
   "cell_type": "markdown",
   "metadata": {},
   "source": [
    "На валидационной выборке:<br />\n",
    "1. Модель **\"Решающее дерево\"** (макс. глубина  - 8) имеет accuracy = 0.802\n",
    "2. Модель **\"Случайный лес\"** (макс. глубина  - 9, кол-во деревьев - 39) имеет accuracy = 0.823\n",
    "3. Модель **\"Логистическая регрессия\"** имеет accuracy = 0.739<br />\n",
    "<br />\n",
    "4. Наилучший результат показывает **\"Случайный лес\"**, наихудший - **\"Логистическая регрессия\"**"
   ]
  },
  {
   "cell_type": "markdown",
   "metadata": {},
   "source": [
    "## Проверьте модель на тестовой выборке"
   ]
  },
  {
   "cell_type": "markdown",
   "metadata": {},
   "source": [
    "### Модель \"Решающее дерево\""
   ]
  },
  {
   "cell_type": "code",
   "execution_count": 23,
   "metadata": {},
   "outputs": [
    {
     "data": {
      "text/plain": [
       "0.7838258164852255"
      ]
     },
     "execution_count": 23,
     "metadata": {},
     "output_type": "execute_result"
    }
   ],
   "source": [
    "predictions_tree = model_tree.predict(features_test)\n",
    "result_tree = accuracy_score(target_test,predictions_tree)\n",
    "result_tree    "
   ]
  },
  {
   "cell_type": "markdown",
   "metadata": {},
   "source": [
    "Accuracy незначительно уменьшилось - на 2,2%"
   ]
  },
  {
   "cell_type": "markdown",
   "metadata": {},
   "source": [
    "### Модель \"Случайный лес\""
   ]
  },
  {
   "cell_type": "code",
   "execution_count": 24,
   "metadata": {},
   "outputs": [
    {
     "data": {
      "text/plain": [
       "0.8118195956454122"
      ]
     },
     "execution_count": 24,
     "metadata": {},
     "output_type": "execute_result"
    }
   ],
   "source": [
    "predictions_forest = model_forest.predict(features_test)\n",
    "result_forest = accuracy_score(target_test,predictions_forest)\n",
    "result_forest  "
   ]
  },
  {
   "cell_type": "markdown",
   "metadata": {},
   "source": [
    "Отличие еще меньше - на 1,3%"
   ]
  },
  {
   "cell_type": "markdown",
   "metadata": {},
   "source": [
    "### Модель \"Логистическая регрессия\""
   ]
  },
  {
   "cell_type": "code",
   "execution_count": 25,
   "metadata": {},
   "outputs": [
    {
     "data": {
      "text/plain": [
       "0.7465007776049767"
      ]
     },
     "execution_count": 25,
     "metadata": {},
     "output_type": "execute_result"
    }
   ],
   "source": [
    "predictions_regress = model_regress.predict(features_test)\n",
    "result_regress = accuracy_score(target_test,predictions_regress)\n",
    "result_regress  "
   ]
  },
  {
   "cell_type": "markdown",
   "metadata": {},
   "source": [
    "Даже улучшилась - на 1,1%"
   ]
  },
  {
   "cell_type": "markdown",
   "metadata": {},
   "source": [
    "### Выводы:"
   ]
  },
  {
   "cell_type": "markdown",
   "metadata": {},
   "source": [
    "#### На тестовой выборке:<br />\n",
    "1. Модель **\"Решающее дерево\"** (макс. глубина  - 8) имеет accuracy = 0.784<br /> \n",
    "(ухудшение по сравнению с валидационной выборкой - 2.2%)\n",
    "2. Модель **\"Случайный лес\"** (макс. глубина  - 9, кол-во деревьев - 39) имеет accuracy = 0.812\n",
    "<br /> \n",
    "(ухудшение по сравнению с валидационной выборкой - 1.3%)\n",
    "3. Модель **\"Логистическая регрессия\"** имеет accuracy = 0.747<br />\n",
    "(улучшение по сравнению с валидационной выборкой - 1.1%)<br />\n",
    "<br />\n",
    "4. Наилучший результат показывает **\"Случайный лес\"** (макс. глубина  - 8, кол-во деревьев - 40) , наихудший - **\"Логистическая регрессия\"**"
   ]
  },
  {
   "cell_type": "markdown",
   "metadata": {},
   "source": [
    "## (бонус) Проверьте модели на адекватность"
   ]
  },
  {
   "cell_type": "markdown",
   "metadata": {},
   "source": [
    "Для проверки используем фальшивую модель **DummyClassifier**. Поскольку результат бинарен, достаточно использовать стратегии 'most_frequent', 'stratified' и 'uniform' (стратегии 'prior' и 'constant' (при заданном значении 0, как наиболее распространенном) будут выдавать тот же результат, что и  'most_frequent')"
   ]
  },
  {
   "cell_type": "code",
   "execution_count": 26,
   "metadata": {},
   "outputs": [
    {
     "name": "stdout",
     "output_type": "stream",
     "text": [
      "most_frequent \t 0.6934647302904564\n",
      "stratified \t 0.5809128630705395\n",
      "uniform \t 0.4880705394190871\n"
     ]
    }
   ],
   "source": [
    "strategies = ['most_frequent','stratified', 'uniform']  \n",
    "for s in strategies:\n",
    "    dclf = DummyClassifier(strategy = s, random_state = 12345)\n",
    "    dclf.fit(features_train, target_train)\n",
    "    print(s,'\\t', dclf.score(features_train, target_train))    "
   ]
  },
  {
   "cell_type": "markdown",
   "metadata": {},
   "source": [
    "**Вывод** <br />\n",
    "Все модели применительно к исходному набору данных) - адекватны: их значение accuracy значительно превышает предсказания **DummyClassifier**,<br />"
   ]
  },
  {
   "cell_type": "markdown",
   "metadata": {},
   "source": [
    "## Итоги проекта:"
   ]
  },
  {
   "cell_type": "markdown",
   "metadata": {},
   "source": [
    "### Анализ исходной информации:\n",
    "1. В предоставленных данных находится информация о 3214 абонетах мобильной связи.\n",
    "2. Все данные полны, пропущенные данные отсутствуют.\n",
    "3. В данных отсутствуют аномальные выбросы.\n",
    "4. Присутствует слабая зависимость между выбором тарифа и каждым из параметров в отдельности.\n",
    "5. Более 2/3 абонентов пользуется тарифом \"Смарт\".\n",
    "6. В качестве целевого признака можно использовать значение столбца ***is_ultra***"
   ]
  },
  {
   "cell_type": "markdown",
   "metadata": {},
   "source": [
    "### Моделирование:\n",
    "#### Данные разбиты на тренировочную, валидационную и тестовую выборку в пропорции 60:20:20\n",
    "#### На валидационной выборке:<br />\n",
    "- Модель **\"Решающее дерево\"** (макс. глубина  - 8) имеет accuracy = 0.802\n",
    "- Модель **\"Случайный лес\"** (макс. глубина  - 9, кол-во деревьев - 39) имеет accuracy = 0.823\n",
    "- Модель **\"Логистическая регрессия\"** имеет accuracy = 0.739<br />\n",
    "- Наилучший результат показывает **\"Случайный лес\"**, наихудший - **\"Логистическая регрессия\"**<br />\n",
    "#### На тестовой выборке:<br />\n",
    "- Модель **\"Решающее дерево\"** (макс. глубина  - 8) имеет accuracy = 0.784<br /> \n",
    "(ухудшение по сравнению с валидационной выборкой - 2.2%)\n",
    "- Модель **\"Случайный лес\"** (макс. глубина  - 9, кол-во деревьев - 39) имеет accuracy = 0.812\n",
    "<br /> \n",
    "(ухудшение по сравнению с валидационной выборкой - 1.3%)\n",
    "- Модель **\"Логистическая регрессия\"** имеет accuracy = 0.747<br />\n",
    "(улучшение по сравнению с валидационной выборкой - 1.1%)<br />\n",
    "<br />\n",
    "- Наилучший результат показывает **\"Случайный лес\"** (макс. глубина - 8, кол-во деревьев - 40) , наихудший - **\"Логистическая регрессия\"**\n",
    "#### Проверка адекватности моделей:<br />\n",
    "- Все модели (применительно к исходному набору данных) - адекватны: их значение accuracy значительно превышает предсказания **DummyClassifier**<br />"
   ]
  },
  {
   "cell_type": "markdown",
   "metadata": {},
   "source": [
    "### Итог\n",
    "Для выбора подходящего тарифа рекомендуется использовать модель **\"Случайный лес\"** с гиперпараметрами:\n",
    "- макс. глубина - 9;\n",
    "- кол-во деревьев - 39"
   ]
  },
  {
   "cell_type": "code",
   "execution_count": null,
   "metadata": {},
   "outputs": [],
   "source": []
  }
 ],
 "metadata": {
  "ExecuteTimeLog": [
   {
    "duration": 541,
    "start_time": "2022-12-14T20:03:05.723Z"
   },
   {
    "duration": 94,
    "start_time": "2022-12-14T20:03:15.774Z"
   },
   {
    "duration": 876,
    "start_time": "2022-12-14T20:09:35.624Z"
   },
   {
    "duration": 40,
    "start_time": "2022-12-14T20:09:36.502Z"
   },
   {
    "duration": 4,
    "start_time": "2022-12-14T20:09:36.544Z"
   },
   {
    "duration": 41,
    "start_time": "2022-12-14T20:09:36.550Z"
   },
   {
    "duration": 3,
    "start_time": "2022-12-14T20:12:21.156Z"
   },
   {
    "duration": 4,
    "start_time": "2022-12-14T20:15:38.183Z"
   },
   {
    "duration": 59,
    "start_time": "2022-12-14T20:15:38.188Z"
   },
   {
    "duration": 3,
    "start_time": "2022-12-14T20:15:38.249Z"
   },
   {
    "duration": 58,
    "start_time": "2022-12-14T20:15:38.254Z"
   },
   {
    "duration": 3,
    "start_time": "2022-12-14T20:15:38.314Z"
   },
   {
    "duration": 17,
    "start_time": "2022-12-14T20:15:38.319Z"
   },
   {
    "duration": 11,
    "start_time": "2022-12-14T20:15:38.338Z"
   },
   {
    "duration": 17,
    "start_time": "2022-12-14T20:15:38.351Z"
   },
   {
    "duration": 933,
    "start_time": "2022-12-14T20:15:43.567Z"
   },
   {
    "duration": 29,
    "start_time": "2022-12-14T20:19:19.611Z"
   },
   {
    "duration": 5,
    "start_time": "2022-12-14T20:29:27.892Z"
   },
   {
    "duration": 996,
    "start_time": "2022-12-14T20:29:32.225Z"
   },
   {
    "duration": 6,
    "start_time": "2022-12-14T20:32:15.261Z"
   },
   {
    "duration": 91,
    "start_time": "2022-12-14T20:32:19.597Z"
   },
   {
    "duration": 5,
    "start_time": "2022-12-14T20:32:34.626Z"
   },
   {
    "duration": 2279,
    "start_time": "2022-12-14T20:32:38.682Z"
   },
   {
    "duration": 5,
    "start_time": "2022-12-14T20:33:46.263Z"
   },
   {
    "duration": 2712,
    "start_time": "2022-12-14T20:33:52.079Z"
   },
   {
    "duration": 74,
    "start_time": "2022-12-14T20:52:55.496Z"
   },
   {
    "duration": 4,
    "start_time": "2022-12-14T21:03:33.570Z"
   },
   {
    "duration": 10,
    "start_time": "2022-12-14T21:03:35.625Z"
   },
   {
    "duration": 383,
    "start_time": "2022-12-14T21:04:21.250Z"
   },
   {
    "duration": 20,
    "start_time": "2022-12-14T21:04:35.994Z"
   },
   {
    "duration": 7,
    "start_time": "2022-12-14T21:04:47.674Z"
   },
   {
    "duration": 4,
    "start_time": "2022-12-14T21:05:54.853Z"
   },
   {
    "duration": 4,
    "start_time": "2022-12-14T21:06:07.739Z"
   },
   {
    "duration": 4,
    "start_time": "2022-12-14T21:06:24.780Z"
   },
   {
    "duration": 4,
    "start_time": "2022-12-14T21:07:00.268Z"
   },
   {
    "duration": 2,
    "start_time": "2022-12-14T21:10:08.574Z"
   },
   {
    "duration": 4,
    "start_time": "2022-12-14T21:11:17.427Z"
   },
   {
    "duration": 4,
    "start_time": "2022-12-14T21:11:26.562Z"
   },
   {
    "duration": 4,
    "start_time": "2022-12-14T21:11:27.103Z"
   },
   {
    "duration": 37,
    "start_time": "2022-12-14T21:14:20.761Z"
   },
   {
    "duration": 4,
    "start_time": "2022-12-14T21:16:49.435Z"
   },
   {
    "duration": 14,
    "start_time": "2022-12-14T21:17:07.628Z"
   },
   {
    "duration": 12,
    "start_time": "2022-12-14T21:17:49.052Z"
   },
   {
    "duration": 75,
    "start_time": "2022-12-14T21:17:54.177Z"
   },
   {
    "duration": 4,
    "start_time": "2022-12-14T21:18:04.949Z"
   },
   {
    "duration": 2,
    "start_time": "2022-12-14T21:18:07.334Z"
   },
   {
    "duration": 73,
    "start_time": "2022-12-14T21:18:13.026Z"
   },
   {
    "duration": 5,
    "start_time": "2022-12-14T21:18:15.412Z"
   },
   {
    "duration": 1484,
    "start_time": "2022-12-14T21:19:15.142Z"
   },
   {
    "duration": 4,
    "start_time": "2022-12-14T21:19:23.881Z"
   },
   {
    "duration": 3,
    "start_time": "2022-12-14T21:19:28.034Z"
   },
   {
    "duration": 1601,
    "start_time": "2022-12-14T21:20:19.892Z"
   },
   {
    "duration": 973,
    "start_time": "2022-12-14T21:22:05.346Z"
   },
   {
    "duration": 4,
    "start_time": "2022-12-14T21:22:14.226Z"
   },
   {
    "duration": 3,
    "start_time": "2022-12-14T21:22:16.715Z"
   },
   {
    "duration": 938,
    "start_time": "2022-12-14T21:24:09.951Z"
   },
   {
    "duration": 4,
    "start_time": "2022-12-14T21:24:12.657Z"
   },
   {
    "duration": 4,
    "start_time": "2022-12-14T21:24:14.788Z"
   },
   {
    "duration": 3,
    "start_time": "2022-12-14T21:26:35.917Z"
   },
   {
    "duration": 13,
    "start_time": "2022-12-14T21:28:54.013Z"
   },
   {
    "duration": 920,
    "start_time": "2022-12-14T21:31:41.714Z"
   },
   {
    "duration": 10,
    "start_time": "2022-12-14T21:34:16.295Z"
   },
   {
    "duration": 11,
    "start_time": "2022-12-14T21:34:24.229Z"
   },
   {
    "duration": 3512,
    "start_time": "2022-12-14T21:34:57.461Z"
   },
   {
    "duration": 52470,
    "start_time": "2022-12-14T21:35:53.681Z"
   },
   {
    "duration": 23032,
    "start_time": "2022-12-14T21:38:01.621Z"
   },
   {
    "duration": 1425,
    "start_time": "2022-12-14T21:38:51.283Z"
   },
   {
    "duration": 3617,
    "start_time": "2022-12-14T21:39:05.389Z"
   },
   {
    "duration": 24636,
    "start_time": "2022-12-14T21:44:55.422Z"
   },
   {
    "duration": 22651,
    "start_time": "2022-12-14T21:46:05.491Z"
   },
   {
    "duration": 23149,
    "start_time": "2022-12-14T21:46:38.958Z"
   },
   {
    "duration": 22963,
    "start_time": "2022-12-14T21:48:01.835Z"
   },
   {
    "duration": 37723,
    "start_time": "2022-12-14T21:48:47.468Z"
   },
   {
    "duration": 37780,
    "start_time": "2022-12-14T21:49:31.564Z"
   },
   {
    "duration": 84098,
    "start_time": "2022-12-14T21:50:45.011Z"
   },
   {
    "duration": 154,
    "start_time": "2022-12-14T21:52:32.380Z"
   },
   {
    "duration": 4,
    "start_time": "2022-12-14T21:52:34.538Z"
   },
   {
    "duration": 3,
    "start_time": "2022-12-14T21:52:35.713Z"
   },
   {
    "duration": 75293,
    "start_time": "2022-12-14T21:52:56.974Z"
   },
   {
    "duration": 75325,
    "start_time": "2022-12-14T21:54:40.802Z"
   },
   {
    "duration": 4,
    "start_time": "2022-12-14T21:56:00.035Z"
   },
   {
    "duration": 3,
    "start_time": "2022-12-14T21:56:02.397Z"
   },
   {
    "duration": 4,
    "start_time": "2022-12-14T21:56:03.777Z"
   },
   {
    "duration": 5,
    "start_time": "2022-12-14T21:57:30.212Z"
   },
   {
    "duration": 3,
    "start_time": "2022-12-14T21:58:27.825Z"
   },
   {
    "duration": 4,
    "start_time": "2022-12-14T21:59:15.878Z"
   },
   {
    "duration": 154,
    "start_time": "2022-12-14T21:59:35.955Z"
   },
   {
    "duration": 4,
    "start_time": "2022-12-14T21:59:39.851Z"
   },
   {
    "duration": 4,
    "start_time": "2022-12-14T21:59:41.240Z"
   },
   {
    "duration": 4,
    "start_time": "2022-12-14T21:59:42.272Z"
   },
   {
    "duration": 6,
    "start_time": "2022-12-14T22:01:26.962Z"
   },
   {
    "duration": 4,
    "start_time": "2022-12-14T22:01:37.938Z"
   },
   {
    "duration": 72,
    "start_time": "2022-12-14T22:05:15.294Z"
   },
   {
    "duration": 75,
    "start_time": "2022-12-14T22:05:52.099Z"
   },
   {
    "duration": 190,
    "start_time": "2022-12-14T22:06:22.893Z"
   },
   {
    "duration": 192,
    "start_time": "2022-12-14T22:07:18.045Z"
   },
   {
    "duration": 4,
    "start_time": "2022-12-14T22:09:40.086Z"
   },
   {
    "duration": 70,
    "start_time": "2022-12-14T22:10:26.423Z"
   },
   {
    "duration": 6,
    "start_time": "2022-12-14T22:11:06.443Z"
   },
   {
    "duration": 23,
    "start_time": "2022-12-14T22:11:25.637Z"
   },
   {
    "duration": 6,
    "start_time": "2022-12-14T22:11:35.712Z"
   },
   {
    "duration": 6,
    "start_time": "2022-12-14T22:27:41.516Z"
   },
   {
    "duration": 95,
    "start_time": "2022-12-14T22:28:35.274Z"
   },
   {
    "duration": 19,
    "start_time": "2022-12-14T22:29:46.284Z"
   },
   {
    "duration": 20,
    "start_time": "2022-12-14T22:29:51.715Z"
   },
   {
    "duration": 96,
    "start_time": "2022-12-14T22:30:17.536Z"
   },
   {
    "duration": 8,
    "start_time": "2022-12-14T22:31:55.646Z"
   },
   {
    "duration": 74,
    "start_time": "2022-12-14T22:37:53.557Z"
   },
   {
    "duration": 75,
    "start_time": "2022-12-14T22:38:01.729Z"
   },
   {
    "duration": 72,
    "start_time": "2022-12-14T22:38:05.412Z"
   },
   {
    "duration": 90,
    "start_time": "2022-12-14T22:42:41.694Z"
   },
   {
    "duration": 11,
    "start_time": "2022-12-14T23:11:58.327Z"
   },
   {
    "duration": 10,
    "start_time": "2022-12-14T23:13:33.164Z"
   },
   {
    "duration": 6,
    "start_time": "2022-12-14T23:16:58.790Z"
   },
   {
    "duration": 18,
    "start_time": "2022-12-14T23:17:03.946Z"
   },
   {
    "duration": 15,
    "start_time": "2022-12-14T23:17:11.400Z"
   },
   {
    "duration": 16,
    "start_time": "2022-12-14T23:19:55.142Z"
   },
   {
    "duration": 22,
    "start_time": "2022-12-14T23:20:03.052Z"
   },
   {
    "duration": 9,
    "start_time": "2022-12-14T23:20:51.794Z"
   },
   {
    "duration": 4,
    "start_time": "2022-12-14T23:20:57.460Z"
   },
   {
    "duration": 10,
    "start_time": "2022-12-14T23:22:40.351Z"
   },
   {
    "duration": 4,
    "start_time": "2022-12-14T23:22:41.259Z"
   },
   {
    "duration": 77,
    "start_time": "2022-12-14T23:29:24.670Z"
   },
   {
    "duration": 7,
    "start_time": "2022-12-14T23:32:36.911Z"
   },
   {
    "duration": 74,
    "start_time": "2022-12-14T23:32:37.531Z"
   },
   {
    "duration": 8,
    "start_time": "2022-12-14T23:33:12.470Z"
   },
   {
    "duration": 102,
    "start_time": "2022-12-14T23:33:13.431Z"
   },
   {
    "duration": 4,
    "start_time": "2022-12-14T23:33:18.316Z"
   },
   {
    "duration": 9,
    "start_time": "2022-12-14T23:34:11.494Z"
   },
   {
    "duration": 23,
    "start_time": "2022-12-14T23:35:07.429Z"
   },
   {
    "duration": 14,
    "start_time": "2022-12-14T23:35:36.727Z"
   },
   {
    "duration": 8,
    "start_time": "2022-12-14T23:36:18.286Z"
   },
   {
    "duration": 76,
    "start_time": "2022-12-14T23:38:08.052Z"
   },
   {
    "duration": 77,
    "start_time": "2022-12-14T23:41:01.911Z"
   },
   {
    "duration": 2,
    "start_time": "2022-12-14T23:41:15.342Z"
   },
   {
    "duration": 17,
    "start_time": "2022-12-14T23:42:57.378Z"
   },
   {
    "duration": 72,
    "start_time": "2022-12-14T23:43:57.853Z"
   },
   {
    "duration": 77,
    "start_time": "2022-12-14T23:44:35.286Z"
   },
   {
    "duration": 79,
    "start_time": "2022-12-14T23:45:10.318Z"
   },
   {
    "duration": 75,
    "start_time": "2022-12-15T00:09:29.082Z"
   },
   {
    "duration": 4,
    "start_time": "2022-12-15T00:14:02.823Z"
   },
   {
    "duration": 1330,
    "start_time": "2022-12-15T00:14:20.956Z"
   },
   {
    "duration": 40,
    "start_time": "2022-12-15T00:14:22.288Z"
   },
   {
    "duration": 3,
    "start_time": "2022-12-15T00:14:22.330Z"
   },
   {
    "duration": 34,
    "start_time": "2022-12-15T00:14:22.334Z"
   },
   {
    "duration": 3,
    "start_time": "2022-12-15T00:14:22.370Z"
   },
   {
    "duration": 9,
    "start_time": "2022-12-15T00:14:22.374Z"
   },
   {
    "duration": 9,
    "start_time": "2022-12-15T00:14:22.384Z"
   },
   {
    "duration": 7,
    "start_time": "2022-12-15T00:14:22.395Z"
   },
   {
    "duration": 2712,
    "start_time": "2022-12-15T00:14:22.403Z"
   },
   {
    "duration": 4,
    "start_time": "2022-12-15T00:14:25.117Z"
   },
   {
    "duration": 10,
    "start_time": "2022-12-15T00:14:25.122Z"
   },
   {
    "duration": 5,
    "start_time": "2022-12-15T00:14:25.134Z"
   },
   {
    "duration": 6,
    "start_time": "2022-12-15T00:14:25.141Z"
   },
   {
    "duration": 6,
    "start_time": "2022-12-15T00:14:25.148Z"
   },
   {
    "duration": 172,
    "start_time": "2022-12-15T00:14:25.155Z"
   },
   {
    "duration": 4,
    "start_time": "2022-12-15T00:14:25.329Z"
   },
   {
    "duration": 9,
    "start_time": "2022-12-15T00:14:25.334Z"
   },
   {
    "duration": 74666,
    "start_time": "2022-12-15T00:14:25.345Z"
   },
   {
    "duration": 4,
    "start_time": "2022-12-15T00:15:40.012Z"
   },
   {
    "duration": 12,
    "start_time": "2022-12-15T00:15:40.018Z"
   },
   {
    "duration": 112,
    "start_time": "2022-12-15T00:15:40.032Z"
   },
   {
    "duration": 0,
    "start_time": "2022-12-15T00:15:40.146Z"
   },
   {
    "duration": 0,
    "start_time": "2022-12-15T00:15:40.147Z"
   },
   {
    "duration": 0,
    "start_time": "2022-12-15T00:15:40.148Z"
   },
   {
    "duration": 0,
    "start_time": "2022-12-15T00:15:40.149Z"
   },
   {
    "duration": 0,
    "start_time": "2022-12-15T00:15:40.150Z"
   },
   {
    "duration": 0,
    "start_time": "2022-12-15T00:15:40.150Z"
   },
   {
    "duration": 23,
    "start_time": "2022-12-15T00:16:12.696Z"
   },
   {
    "duration": 20,
    "start_time": "2022-12-15T00:16:24.028Z"
   },
   {
    "duration": 4,
    "start_time": "2022-12-15T00:16:24.050Z"
   },
   {
    "duration": 8,
    "start_time": "2022-12-15T00:16:24.056Z"
   },
   {
    "duration": 13,
    "start_time": "2022-12-15T00:16:24.066Z"
   },
   {
    "duration": 32,
    "start_time": "2022-12-15T00:16:24.081Z"
   },
   {
    "duration": 9,
    "start_time": "2022-12-15T00:16:24.115Z"
   },
   {
    "duration": 13,
    "start_time": "2022-12-15T00:17:47.602Z"
   },
   {
    "duration": 1412,
    "start_time": "2022-12-15T00:18:25.280Z"
   },
   {
    "duration": 36,
    "start_time": "2022-12-15T00:18:26.696Z"
   },
   {
    "duration": 3,
    "start_time": "2022-12-15T00:18:26.734Z"
   },
   {
    "duration": 33,
    "start_time": "2022-12-15T00:18:26.739Z"
   },
   {
    "duration": 3,
    "start_time": "2022-12-15T00:18:26.774Z"
   },
   {
    "duration": 6,
    "start_time": "2022-12-15T00:18:26.778Z"
   },
   {
    "duration": 8,
    "start_time": "2022-12-15T00:18:26.786Z"
   },
   {
    "duration": 10,
    "start_time": "2022-12-15T00:18:26.796Z"
   },
   {
    "duration": 2667,
    "start_time": "2022-12-15T00:18:26.808Z"
   },
   {
    "duration": 4,
    "start_time": "2022-12-15T00:18:29.477Z"
   },
   {
    "duration": 9,
    "start_time": "2022-12-15T00:18:29.482Z"
   },
   {
    "duration": 8,
    "start_time": "2022-12-15T00:18:29.493Z"
   },
   {
    "duration": 13,
    "start_time": "2022-12-15T00:18:29.502Z"
   },
   {
    "duration": 6,
    "start_time": "2022-12-15T00:18:29.517Z"
   },
   {
    "duration": 173,
    "start_time": "2022-12-15T00:18:29.525Z"
   },
   {
    "duration": 4,
    "start_time": "2022-12-15T00:18:29.700Z"
   },
   {
    "duration": 4,
    "start_time": "2022-12-15T00:18:29.713Z"
   },
   {
    "duration": 75417,
    "start_time": "2022-12-15T00:18:29.719Z"
   },
   {
    "duration": 4,
    "start_time": "2022-12-15T00:19:45.138Z"
   },
   {
    "duration": 7,
    "start_time": "2022-12-15T00:19:45.144Z"
   },
   {
    "duration": 25,
    "start_time": "2022-12-15T00:19:45.152Z"
   },
   {
    "duration": 6,
    "start_time": "2022-12-15T00:19:45.179Z"
   },
   {
    "duration": 29,
    "start_time": "2022-12-15T00:19:45.187Z"
   },
   {
    "duration": 8,
    "start_time": "2022-12-15T00:19:45.218Z"
   },
   {
    "duration": 15,
    "start_time": "2022-12-15T00:19:45.228Z"
   },
   {
    "duration": 13,
    "start_time": "2022-12-15T00:19:45.244Z"
   },
   {
    "duration": 8,
    "start_time": "2022-12-15T00:19:45.260Z"
   },
   {
    "duration": 13,
    "start_time": "2022-12-15T00:20:43.290Z"
   },
   {
    "duration": 6,
    "start_time": "2022-12-15T00:20:43.305Z"
   },
   {
    "duration": 14,
    "start_time": "2022-12-15T00:20:43.312Z"
   },
   {
    "duration": 13,
    "start_time": "2022-12-15T00:20:43.327Z"
   },
   {
    "duration": 8,
    "start_time": "2022-12-15T00:20:43.342Z"
   },
   {
    "duration": 23,
    "start_time": "2022-12-15T00:20:55.576Z"
   },
   {
    "duration": 7,
    "start_time": "2022-12-15T00:21:06.456Z"
   },
   {
    "duration": 5,
    "start_time": "2022-12-15T00:22:34.803Z"
   },
   {
    "duration": 2390,
    "start_time": "2022-12-15T00:22:37.913Z"
   },
   {
    "duration": 1361,
    "start_time": "2022-12-15T00:25:45.536Z"
   },
   {
    "duration": 40,
    "start_time": "2022-12-15T00:25:46.899Z"
   },
   {
    "duration": 4,
    "start_time": "2022-12-15T00:25:46.940Z"
   },
   {
    "duration": 39,
    "start_time": "2022-12-15T00:25:46.946Z"
   },
   {
    "duration": 3,
    "start_time": "2022-12-15T00:25:46.987Z"
   },
   {
    "duration": 7,
    "start_time": "2022-12-15T00:25:46.992Z"
   },
   {
    "duration": 9,
    "start_time": "2022-12-15T00:25:47.001Z"
   },
   {
    "duration": 7,
    "start_time": "2022-12-15T00:25:47.012Z"
   },
   {
    "duration": 2384,
    "start_time": "2022-12-15T00:25:47.020Z"
   },
   {
    "duration": 5,
    "start_time": "2022-12-15T00:25:49.408Z"
   },
   {
    "duration": 10,
    "start_time": "2022-12-15T00:25:49.415Z"
   },
   {
    "duration": 8,
    "start_time": "2022-12-15T00:25:49.427Z"
   },
   {
    "duration": 6,
    "start_time": "2022-12-15T00:25:49.437Z"
   },
   {
    "duration": 6,
    "start_time": "2022-12-15T00:25:49.444Z"
   },
   {
    "duration": 285,
    "start_time": "2022-12-15T00:25:49.451Z"
   },
   {
    "duration": 4,
    "start_time": "2022-12-15T00:25:49.737Z"
   },
   {
    "duration": 10,
    "start_time": "2022-12-15T00:25:49.742Z"
   },
   {
    "duration": 73919,
    "start_time": "2022-12-15T00:25:49.754Z"
   },
   {
    "duration": 3,
    "start_time": "2022-12-15T00:27:03.675Z"
   },
   {
    "duration": 10,
    "start_time": "2022-12-15T00:27:03.680Z"
   },
   {
    "duration": 30,
    "start_time": "2022-12-15T00:27:03.691Z"
   },
   {
    "duration": 6,
    "start_time": "2022-12-15T00:27:03.722Z"
   },
   {
    "duration": 10,
    "start_time": "2022-12-15T00:27:03.730Z"
   },
   {
    "duration": 34,
    "start_time": "2022-12-15T00:27:03.741Z"
   },
   {
    "duration": 6,
    "start_time": "2022-12-15T00:27:03.777Z"
   },
   {
    "duration": 14,
    "start_time": "2022-12-15T00:27:03.784Z"
   },
   {
    "duration": 47,
    "start_time": "2022-12-15T00:31:33.437Z"
   },
   {
    "duration": 1408,
    "start_time": "2022-12-15T00:31:49.098Z"
   },
   {
    "duration": 38,
    "start_time": "2022-12-15T00:31:50.508Z"
   },
   {
    "duration": 3,
    "start_time": "2022-12-15T00:31:50.547Z"
   },
   {
    "duration": 34,
    "start_time": "2022-12-15T00:31:50.552Z"
   },
   {
    "duration": 4,
    "start_time": "2022-12-15T00:31:50.588Z"
   },
   {
    "duration": 6,
    "start_time": "2022-12-15T00:31:50.594Z"
   },
   {
    "duration": 9,
    "start_time": "2022-12-15T00:31:50.602Z"
   },
   {
    "duration": 8,
    "start_time": "2022-12-15T00:31:50.614Z"
   },
   {
    "duration": 2388,
    "start_time": "2022-12-15T00:31:50.624Z"
   },
   {
    "duration": 4,
    "start_time": "2022-12-15T00:31:53.015Z"
   },
   {
    "duration": 10,
    "start_time": "2022-12-15T00:31:53.021Z"
   },
   {
    "duration": 7,
    "start_time": "2022-12-15T00:31:53.033Z"
   },
   {
    "duration": 7,
    "start_time": "2022-12-15T00:31:53.042Z"
   },
   {
    "duration": 4,
    "start_time": "2022-12-15T00:31:53.051Z"
   },
   {
    "duration": 300,
    "start_time": "2022-12-15T00:31:53.057Z"
   },
   {
    "duration": 4,
    "start_time": "2022-12-15T00:31:53.358Z"
   },
   {
    "duration": 9,
    "start_time": "2022-12-15T00:31:53.364Z"
   },
   {
    "duration": 74602,
    "start_time": "2022-12-15T00:31:53.374Z"
   },
   {
    "duration": 4,
    "start_time": "2022-12-15T00:33:07.978Z"
   },
   {
    "duration": 8,
    "start_time": "2022-12-15T00:33:07.984Z"
   },
   {
    "duration": 36,
    "start_time": "2022-12-15T00:33:07.994Z"
   },
   {
    "duration": 6,
    "start_time": "2022-12-15T00:33:08.032Z"
   },
   {
    "duration": 19,
    "start_time": "2022-12-15T00:33:08.040Z"
   },
   {
    "duration": 18,
    "start_time": "2022-12-15T00:33:08.060Z"
   },
   {
    "duration": 6,
    "start_time": "2022-12-15T00:33:08.080Z"
   },
   {
    "duration": 29,
    "start_time": "2022-12-15T00:33:08.088Z"
   },
   {
    "duration": 1923,
    "start_time": "2022-12-15T15:04:27.757Z"
   },
   {
    "duration": 41,
    "start_time": "2022-12-15T15:04:29.682Z"
   },
   {
    "duration": 4,
    "start_time": "2022-12-15T15:04:29.726Z"
   },
   {
    "duration": 77,
    "start_time": "2022-12-15T15:04:31.505Z"
   },
   {
    "duration": 3,
    "start_time": "2022-12-15T15:04:31.951Z"
   },
   {
    "duration": 4,
    "start_time": "2022-12-15T15:04:35.735Z"
   },
   {
    "duration": 15,
    "start_time": "2022-12-15T15:04:36.160Z"
   },
   {
    "duration": 5,
    "start_time": "2022-12-15T15:04:37.451Z"
   },
   {
    "duration": 2843,
    "start_time": "2022-12-15T15:04:37.991Z"
   },
   {
    "duration": 41,
    "start_time": "2022-12-15T16:55:26.720Z"
   },
   {
    "duration": 52,
    "start_time": "2022-12-15T16:56:41.334Z"
   },
   {
    "duration": 3,
    "start_time": "2022-12-15T16:59:00.918Z"
   },
   {
    "duration": 47,
    "start_time": "2022-12-15T17:06:29.864Z"
   },
   {
    "duration": 1562,
    "start_time": "2022-12-15T17:07:01.996Z"
   },
   {
    "duration": 40,
    "start_time": "2022-12-15T17:07:03.560Z"
   },
   {
    "duration": 3,
    "start_time": "2022-12-15T17:07:03.602Z"
   },
   {
    "duration": 145,
    "start_time": "2022-12-15T17:07:03.607Z"
   },
   {
    "duration": 3,
    "start_time": "2022-12-15T17:07:03.754Z"
   },
   {
    "duration": 9,
    "start_time": "2022-12-15T17:07:03.758Z"
   },
   {
    "duration": 16,
    "start_time": "2022-12-15T17:07:03.769Z"
   },
   {
    "duration": 37,
    "start_time": "2022-12-15T17:07:03.786Z"
   },
   {
    "duration": 2350,
    "start_time": "2022-12-15T17:07:03.824Z"
   },
   {
    "duration": 3,
    "start_time": "2022-12-15T17:07:06.177Z"
   },
   {
    "duration": 18,
    "start_time": "2022-12-15T17:07:06.182Z"
   },
   {
    "duration": 4,
    "start_time": "2022-12-15T17:07:06.202Z"
   },
   {
    "duration": 6,
    "start_time": "2022-12-15T17:07:06.207Z"
   },
   {
    "duration": 5,
    "start_time": "2022-12-15T17:07:06.215Z"
   },
   {
    "duration": 258,
    "start_time": "2022-12-15T17:07:06.222Z"
   },
   {
    "duration": 3,
    "start_time": "2022-12-15T17:07:06.482Z"
   },
   {
    "duration": 11,
    "start_time": "2022-12-15T17:07:06.487Z"
   },
   {
    "duration": 73950,
    "start_time": "2022-12-15T17:07:06.499Z"
   },
   {
    "duration": 4,
    "start_time": "2022-12-15T17:08:20.450Z"
   },
   {
    "duration": 12,
    "start_time": "2022-12-15T17:08:20.455Z"
   },
   {
    "duration": 38,
    "start_time": "2022-12-15T17:08:20.468Z"
   },
   {
    "duration": 6,
    "start_time": "2022-12-15T17:08:20.507Z"
   },
   {
    "duration": 6,
    "start_time": "2022-12-15T17:08:20.515Z"
   },
   {
    "duration": 13,
    "start_time": "2022-12-15T17:08:20.522Z"
   },
   {
    "duration": 5,
    "start_time": "2022-12-15T17:08:20.537Z"
   },
   {
    "duration": 8,
    "start_time": "2022-12-15T17:08:20.544Z"
   },
   {
    "duration": 3,
    "start_time": "2022-12-15T17:22:46.292Z"
   },
   {
    "duration": 1348,
    "start_time": "2022-12-15T17:24:43.533Z"
   },
   {
    "duration": 24,
    "start_time": "2022-12-15T17:24:44.883Z"
   },
   {
    "duration": 3,
    "start_time": "2022-12-15T17:24:44.908Z"
   },
   {
    "duration": 44,
    "start_time": "2022-12-15T17:24:44.914Z"
   },
   {
    "duration": 4,
    "start_time": "2022-12-15T17:24:44.960Z"
   },
   {
    "duration": 13,
    "start_time": "2022-12-15T17:24:44.965Z"
   },
   {
    "duration": 23,
    "start_time": "2022-12-15T17:24:44.980Z"
   },
   {
    "duration": 57,
    "start_time": "2022-12-15T17:24:45.004Z"
   },
   {
    "duration": 2242,
    "start_time": "2022-12-15T17:24:45.062Z"
   },
   {
    "duration": 4,
    "start_time": "2022-12-15T17:24:47.306Z"
   },
   {
    "duration": 22,
    "start_time": "2022-12-15T17:24:47.311Z"
   },
   {
    "duration": 25,
    "start_time": "2022-12-15T17:24:47.335Z"
   },
   {
    "duration": 19,
    "start_time": "2022-12-15T17:24:47.361Z"
   },
   {
    "duration": 28,
    "start_time": "2022-12-15T17:24:47.382Z"
   },
   {
    "duration": 250,
    "start_time": "2022-12-15T17:24:47.411Z"
   },
   {
    "duration": 8,
    "start_time": "2022-12-15T17:24:47.663Z"
   },
   {
    "duration": 20,
    "start_time": "2022-12-15T17:24:47.672Z"
   },
   {
    "duration": 73107,
    "start_time": "2022-12-15T17:24:47.694Z"
   },
   {
    "duration": 3,
    "start_time": "2022-12-15T17:26:00.802Z"
   },
   {
    "duration": 32,
    "start_time": "2022-12-15T17:26:00.807Z"
   },
   {
    "duration": 46,
    "start_time": "2022-12-15T17:26:00.841Z"
   },
   {
    "duration": 6,
    "start_time": "2022-12-15T17:26:00.889Z"
   },
   {
    "duration": 12,
    "start_time": "2022-12-15T17:26:00.896Z"
   },
   {
    "duration": 39,
    "start_time": "2022-12-15T17:26:00.909Z"
   },
   {
    "duration": 14,
    "start_time": "2022-12-15T17:26:00.950Z"
   },
   {
    "duration": 23,
    "start_time": "2022-12-15T17:26:00.965Z"
   }
  ],
  "kernelspec": {
   "display_name": "Python 3 (ipykernel)",
   "language": "python",
   "name": "python3"
  },
  "language_info": {
   "codemirror_mode": {
    "name": "ipython",
    "version": 3
   },
   "file_extension": ".py",
   "mimetype": "text/x-python",
   "name": "python",
   "nbconvert_exporter": "python",
   "pygments_lexer": "ipython3",
   "version": "3.9.12"
  },
  "toc": {
   "base_numbering": 1,
   "nav_menu": {},
   "number_sections": true,
   "sideBar": true,
   "skip_h1_title": true,
   "title_cell": "Table of Contents",
   "title_sidebar": "Contents",
   "toc_cell": false,
   "toc_position": {
    "height": "calc(100% - 180px)",
    "left": "10px",
    "top": "150px",
    "width": "356.594px"
   },
   "toc_section_display": true,
   "toc_window_display": true
  }
 },
 "nbformat": 4,
 "nbformat_minor": 2
}
